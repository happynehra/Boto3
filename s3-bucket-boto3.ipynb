{
 "cells": [
  {
   "cell_type": "code",
   "execution_count": null,
   "id": "77af2099",
   "metadata": {},
   "outputs": [],
   "source": [
    "import boto3\n",
    "\n",
    "sess = boto3.Session(region_name='ap-south-1')\n",
    "\n",
    "s3client = sess.client('s3')\n",
    "\n",
    "bucket_name = 'happy-1717-nehra'\n",
    "\n",
    "s3_location = {\n",
    "    'LocationConstraint' : 'ap-south-1'\n",
    "}\n",
    "\n",
    "s3client.create_bucket(Bucket = bucket_name, CreateBucketConfiguration=s3_location)"
   ]
  },
  {
   "cell_type": "code",
   "execution_count": null,
   "id": "870a1b94",
   "metadata": {},
   "outputs": [],
   "source": []
  }
 ],
 "metadata": {
  "kernelspec": {
   "display_name": "Python 3 (ipykernel)",
   "language": "python",
   "name": "python3"
  },
  "language_info": {
   "codemirror_mode": {
    "name": "ipython",
    "version": 3
   },
   "file_extension": ".py",
   "mimetype": "text/x-python",
   "name": "python",
   "nbconvert_exporter": "python",
   "pygments_lexer": "ipython3",
   "version": "3.11.3"
  }
 },
 "nbformat": 4,
 "nbformat_minor": 5
}
