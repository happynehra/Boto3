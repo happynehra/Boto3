{
 "cells": [
  {
   "cell_type": "code",
   "execution_count": 1,
   "id": "0ea842ce",
   "metadata": {},
   "outputs": [],
   "source": [
    "import boto3\n"
   ]
  },
  {
   "cell_type": "code",
   "execution_count": 2,
   "id": "6d9f6ed2",
   "metadata": {},
   "outputs": [],
   "source": [
    "mysns = boto3.client(\"sns\")"
   ]
  },
  {
   "cell_type": "code",
   "execution_count": 3,
   "id": "33bc01e9",
   "metadata": {},
   "outputs": [
    {
     "data": {
      "text/plain": [
       "{'MessageId': '54870875-8e35-529b-a67b-55341c2c637c',\n",
       " 'ResponseMetadata': {'RequestId': 'a46a28f4-8eb0-5bdb-bf4e-75b51ca9da3c',\n",
       "  'HTTPStatusCode': 200,\n",
       "  'HTTPHeaders': {'x-amzn-requestid': 'a46a28f4-8eb0-5bdb-bf4e-75b51ca9da3c',\n",
       "   'content-type': 'text/xml',\n",
       "   'content-length': '294',\n",
       "   'date': 'Mon, 31 Jul 2023 10:41:28 GMT'},\n",
       "  'RetryAttempts': 0}}"
      ]
     },
     "execution_count": 3,
     "metadata": {},
     "output_type": "execute_result"
    }
   ],
   "source": [
    "mysns.publish(\n",
    "      Message='i am testing boto3',\n",
    "      Subject='subject by boto3',\n",
    "      TopicArn='arn:aws:sns:ap-south-1:047884598914:s3-topic'\n",
    ")"
   ]
  },
  {
   "cell_type": "code",
   "execution_count": null,
   "id": "21a14161",
   "metadata": {},
   "outputs": [],
   "source": []
  }
 ],
 "metadata": {
  "kernelspec": {
   "display_name": "Python 3 (ipykernel)",
   "language": "python",
   "name": "python3"
  },
  "language_info": {
   "codemirror_mode": {
    "name": "ipython",
    "version": 3
   },
   "file_extension": ".py",
   "mimetype": "text/x-python",
   "name": "python",
   "nbconvert_exporter": "python",
   "pygments_lexer": "ipython3",
   "version": "3.11.3"
  }
 },
 "nbformat": 4,
 "nbformat_minor": 5
}
