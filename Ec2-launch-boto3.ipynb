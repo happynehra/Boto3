{
 "cells": [
  {
   "cell_type": "code",
   "execution_count": null,
   "id": "5e7ef42d",
   "metadata": {},
   "outputs": [],
   "source": [
    "import boto3"
   ]
  },
  {
   "cell_type": "code",
   "execution_count": null,
   "id": "d2e7ea1c",
   "metadata": {},
   "outputs": [],
   "source": [
    "myec2 = boto3.client(\"ec2\")"
   ]
  },
  {
   "cell_type": "code",
   "execution_count": null,
   "id": "39da4ec7",
   "metadata": {},
   "outputs": [],
   "source": [
    "myec2.run_instances(ImageId='ami-0ded8326293d3201b',\n",
    "                    InstanceType='t2.micro',\n",
    "                    MaxCount=1,\n",
    "                    MinCount=1 )"
   ]
  },
  {
   "cell_type": "code",
   "execution_count": null,
   "id": "8abe1db5",
   "metadata": {},
   "outputs": [],
   "source": []
  },
  {
   "cell_type": "code",
   "execution_count": null,
   "id": "fa67dc95",
   "metadata": {},
   "outputs": [],
   "source": []
  }
 ],
 "metadata": {
  "kernelspec": {
   "display_name": "Python 3 (ipykernel)",
   "language": "python",
   "name": "python3"
  },
  "language_info": {
   "codemirror_mode": {
    "name": "ipython",
    "version": 3
   },
   "file_extension": ".py",
   "mimetype": "text/x-python",
   "name": "python",
   "nbconvert_exporter": "python",
   "pygments_lexer": "ipython3",
   "version": "3.11.3"
  }
 },
 "nbformat": 4,
 "nbformat_minor": 5
}
